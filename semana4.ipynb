{
 "cells": [
  {
   "cell_type": "code",
   "execution_count": 1,
   "metadata": {},
   "outputs": [
    {
     "name": "stdout",
     "output_type": "stream",
     "text": [
      "[[6.2 7.3 4.8 3.4]\n",
      " [7.7 9.4 6.  6.6]\n",
      " [5.3 6.6 8.4 6.5]]\n"
     ]
    }
   ],
   "source": [
    "import numpy as np\n",
    "\n",
    "A = np.array([\n",
    "    [2.6,4.8,1.8,0.9],\n",
    "    [3.2,4.4,2.5,2.8],\n",
    "    [2.4,3.6,3.8,2.5]\n",
    "])\n",
    "\n",
    "B = np.array([\n",
    "    [3.6,2.5,3.0,2.5],\n",
    "    [4.5,5.0,3.5,3.8],\n",
    "    [2.9,3.0,4.6,4.0]\n",
    "])\n",
    "\n",
    "S = A + B\n",
    "print(S)"
   ]
  }
 ],
 "metadata": {
  "kernelspec": {
   "display_name": "Python 3",
   "language": "python",
   "name": "python3"
  },
  "language_info": {
   "codemirror_mode": {
    "name": "ipython",
    "version": 3
   },
   "file_extension": ".py",
   "mimetype": "text/x-python",
   "name": "python",
   "nbconvert_exporter": "python",
   "pygments_lexer": "ipython3",
   "version": "3.12.4"
  }
 },
 "nbformat": 4,
 "nbformat_minor": 2
}
