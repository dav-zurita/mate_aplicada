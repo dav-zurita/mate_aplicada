{
 "cells": [
  {
   "cell_type": "code",
   "execution_count": 9,
   "metadata": {},
   "outputs": [
    {
     "name": "stdout",
     "output_type": "stream",
     "text": [
      "Sequence: [2, 4, 6, 8], Type: Arithmetic\n",
      "4\n",
      "6\n",
      "Sequence: [2, 6, 18], Type: Geometric\n",
      "3\n",
      "6\n"
     ]
    }
   ],
   "source": [
    "class Sequence:\n",
    "    def __init__(self, sequence):\n",
    "        if not all(isinstance(x, (int, float)) for x in sequence):\n",
    "            raise ValueError(\"La secuencia debe contener sólo números.\")\n",
    "        self.sequence = sequence\n",
    "        self.type = None\n",
    "        self.get_type()\n",
    "\n",
    "    def __str__(self):\n",
    "        return f\"Secuencia: {self.sequence}, Tipo: {self.type}\"\n",
    "\n",
    "    def __len__(self):\n",
    "        return len(self.sequence)\n",
    "\n",
    "    def __getitem__(self, index):\n",
    "        if index < 0 or index >= len(self.sequence):\n",
    "            raise IndexError(\"Index fuera de rango\")\n",
    "        return self.sequence[index]\n",
    "\n",
    "    def get_type(self):\n",
    "        if len(self.sequence) < 3:\n",
    "            raise ValueError(\"La secuencia no tiene suficientes valores.\")\n",
    "        \n",
    "        is_arithmetic = all(\n",
    "            (self.sequence[i] - self.sequence[i - 1]) == (self.sequence[1] - self.sequence[0])\n",
    "            for i in range(2, len(self.sequence))\n",
    "        )\n",
    "        \n",
    "        is_geometric = all(\n",
    "            (self.sequence[i] / self.sequence[i - 1]) == (self.sequence[1] / self.sequence[0])\n",
    "            for i in range(2, len(self.sequence))\n",
    "        ) if self.sequence[1] != 0 else False\n",
    "\n",
    "        if is_arithmetic:\n",
    "            self.type = \"Aritmética\"\n",
    "        elif is_geometric:\n",
    "            self.type = \"Geométrica\"\n",
    "        else:\n",
    "            self.type = \"Ninguna\"\n",
    "\n",
    "seq = Sequence([2, 4, 6, 8])\n",
    "print(seq) \n",
    "print(len(seq)) \n",
    "print(seq[2])\n",
    "\n",
    "seq = Sequence([2, 6, 18])\n",
    "print(seq)\n",
    "print(len(seq))\n",
    "print(seq[1])\n"
   ]
  }
 ],
 "metadata": {
  "kernelspec": {
   "display_name": "Python 3",
   "language": "python",
   "name": "python3"
  },
  "language_info": {
   "codemirror_mode": {
    "name": "ipython",
    "version": 3
   },
   "file_extension": ".py",
   "mimetype": "text/x-python",
   "name": "python",
   "nbconvert_exporter": "python",
   "pygments_lexer": "ipython3",
   "version": "3.12.4"
  }
 },
 "nbformat": 4,
 "nbformat_minor": 2
}
