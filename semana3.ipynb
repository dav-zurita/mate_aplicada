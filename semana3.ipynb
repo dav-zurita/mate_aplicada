{
 "cells": [
  {
   "cell_type": "code",
   "execution_count": 6,
   "metadata": {},
   "outputs": [
    {
     "name": "stdout",
     "output_type": "stream",
     "text": [
      "La secuencia es 1\n",
      "625.0\n"
     ]
    }
   ],
   "source": [
    "class Sequence:\n",
    "    def __init__(self, sequence, type, common_diff):\n",
    "        self.sequence = sequence \n",
    "        self.type = type\n",
    "        self.common_diff = common_diff\n",
    "\n",
    "    def __str__(self):\n",
    "        return f\"{self.name}({self.age})\"\n",
    "\n",
    "    def get_type(self.sequence):\n",
    "        if ((sequence[-1] - sequence[-2]) == (sequence[-2] - sequence[-3])):\n",
    "            self.type == 1 #aritmetica\n",
    "        elif ((sequence[-1]/sequence[-2]) == (sequence[-2]/sequence[-3])):\n",
    "            self.type == 2 #geometrica\n",
    "        else:\n",
    "            self.type == None\n",
    "   \n",
    "  \n",
    "\n",
    "def get_type(sequence):\n",
    "    if (len(sequence) < 3):\n",
    "        return -1 #La secuencia no tiene suficientes valores\n",
    "\n",
    "    if ((sequence[-1] - sequence[-2]) == (sequence[-2] - sequence[-3])):\n",
    "        return 1 #aritmetica\n",
    "    elif ((sequence[-1]/sequence[-2]) == (sequence[-2]/sequence[-3])):\n",
    "        return 2 #geometrica\n",
    "    else:\n",
    "        return 0\n",
    "    \n",
    "def get_n_value(sequence, n_term):\n",
    "    if (get_type(sequence) == 1):\n",
    "        return sequence[1] + (n_term - 1)*(sequence[-1] - sequence[-2])\n",
    "    elif (get_type(sequence) == 2):\n",
    "        return sequence[1]*((sequence[-1] - sequence[-2])**(n_term - 1))\n",
    "    else:\n",
    "        return None\n",
    "    \n",
    "\n",
    "\n",
    "sequence = [257800,261600,265400]\n",
    "\n",
    "sequence_type = get_type(sequence)\n",
    "\n",
    "#n_value = get_n_value()\n",
    "\n",
    "print(f\"La secuencia es {sequence_type}\")\n",
    "\n",
    "print(974.8 - 22*15.9)\n",
    "    "
   ]
  }
 ],
 "metadata": {
  "kernelspec": {
   "display_name": "Python 3",
   "language": "python",
   "name": "python3"
  },
  "language_info": {
   "codemirror_mode": {
    "name": "ipython",
    "version": 3
   },
   "file_extension": ".py",
   "mimetype": "text/x-python",
   "name": "python",
   "nbconvert_exporter": "python",
   "pygments_lexer": "ipython3",
   "version": "3.12.4"
  }
 },
 "nbformat": 4,
 "nbformat_minor": 2
}
